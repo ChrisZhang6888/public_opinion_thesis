{
 "cells": [
  {
   "cell_type": "code",
   "execution_count": 24,
   "metadata": {},
   "outputs": [],
   "source": [
    "import snscrape.modules.twitter as sntwitter\n",
    "import pandas as pd\n",
    "import snscrape\n",
    "import random"
   ]
  },
  {
   "cell_type": "code",
   "execution_count": 49,
   "metadata": {},
   "outputs": [],
   "source": [
    "# Helper Functions  \n",
    "import random \n",
    "def create_day_list(year,month): \n",
    "    if month in [1,3,5,7,8,10,12]: \n",
    "        day_list = random.sample(range(0, 31), 7)\n",
    "    elif month == 2: \n",
    "        if year == 0: \n",
    "            day_list = random.sample(range(0, 29), 7)\n",
    "        else: \n",
    "            day_list = random.sample(range(0, 28), 7)\n",
    "    else: \n",
    "        day_list = random.sample(range(0, 30), 7)\n",
    "    return day_list\n",
    "\n",
    "def find_end_date(month): \n",
    "    if month in [1,3,5,7,8,10,12]: \n",
    "        day = 31\n",
    "    elif month == 2: \n",
    "        day = 28\n",
    "    else: \n",
    "        day = 30\n",
    "    return day"
   ]
  },
  {
   "cell_type": "markdown",
   "metadata": {},
   "source": [
    "### **Social Media data for social Distance**"
   ]
  },
  {
   "cell_type": "code",
   "execution_count": 50,
   "metadata": {},
   "outputs": [
    {
     "name": "stderr",
     "output_type": "stream",
     "text": [
      "/var/folders/nq/5z_sx69s5ngg5p145v4g54t80000gn/T/ipykernel_62410/766311878.py:15: DeprecatedFeatureWarning: content is deprecated, use rawContent instead\n",
      "  tweets_list_sd.append([tweet.date, tweet.id, tweet.content, tweet.user.username])\n"
     ]
    }
   ],
   "source": [
    "# Creating list to append tweet data to\n",
    "tweets_list_sd = []\n",
    "time_lst = [(0,4), (0,5), (0,6), (0,7), (0,8), (0,9), (0, 10), (0, 11), (0, 12),\n",
    "            (1,1), (1,2), (1,3), (1,4), (1,5), (1,6)]\n",
    "for year, month in time_lst: \n",
    "    tweets_list_sd_m = []\n",
    "    day_list = create_day_list(year, month)\n",
    "    for day in day_list: \n",
    "        for i,tweet in enumerate(sntwitter.TwitterSearchScraper('self-isolation OR social distancing OR 6-feet social distance OR masking OR self-quarantine since:202{}-0{}-{} until:202{}-0{}-{}'.format(year, month,day, year, month, day+1)).get_items()):\n",
    "            if i > 100:\n",
    "                break\n",
    "            tweets_list_sd_m.append([tweet.user.username])\n",
    "            if len(tweets_list_sd_m) > 500: \n",
    "                break \n",
    "            tweets_list_sd.append([tweet.date, tweet.id, tweet.content, tweet.user.username])"
   ]
  },
  {
   "cell_type": "code",
   "execution_count": 51,
   "metadata": {},
   "outputs": [],
   "source": [
    "# Creating a dataframe from the tweets list above\n",
    "sd_df = pd.DataFrame(tweets_list_sd, columns=['Datetime', 'Tweet Id', 'Text', 'Username'])\n",
    "sd_df['Datetime'] = pd.to_datetime(sd_df['Datetime'])\n",
    "sd_df['year_month'] = sd_df['Datetime'].dt.strftime('%Y-%m')\n",
    "sd_df = sd_df.drop(columns='Datetime')"
   ]
  },
  {
   "cell_type": "code",
   "execution_count": 52,
   "metadata": {},
   "outputs": [
    {
     "data": {
      "text/plain": [
       "2020-04    500\n",
       "2020-05    500\n",
       "2020-06    500\n",
       "2020-07    500\n",
       "2020-08    500\n",
       "2020-09    500\n",
       "2020-10    500\n",
       "2020-11    500\n",
       "2020-12    500\n",
       "2021-01    500\n",
       "2021-02    500\n",
       "2021-03    500\n",
       "2021-04    500\n",
       "2021-05    500\n",
       "2021-06    500\n",
       "Name: year_month, dtype: int64"
      ]
     },
     "execution_count": 52,
     "metadata": {},
     "output_type": "execute_result"
    }
   ],
   "source": [
    "# Double check the monthly tweets number \n",
    "sd_df.year_month.value_counts()"
   ]
  },
  {
   "cell_type": "code",
   "execution_count": 53,
   "metadata": {},
   "outputs": [],
   "source": [
    "# Save the data to CSV file \n",
    "sd_df.to_csv('Social_Media_Data/twitter_social_distance.csv')"
   ]
  },
  {
   "cell_type": "markdown",
   "metadata": {},
   "source": [
    "### **Social Media data for Vaccine**"
   ]
  },
  {
   "cell_type": "code",
   "execution_count": 18,
   "metadata": {},
   "outputs": [
    {
     "name": "stderr",
     "output_type": "stream",
     "text": [
      "/var/folders/nq/5z_sx69s5ngg5p145v4g54t80000gn/T/ipykernel_38860/1270045610.py:10: DeprecatedFeatureWarning: content is deprecated, use rawContent instead\n",
      "  tweets_list_vac.append([tweet.date, tweet.id, tweet.content, tweet.user.username])\n"
     ]
    }
   ],
   "source": [
    "# Creating list to append tweet data to\n",
    "tweets_list_vac = []\n",
    "time_lst = [(0,7), (0,8), (0,9), (0, 10), (0, 11), (0, 12),(1,1), (1,2), (1,3)]\n",
    "for year, month in time_lst: \n",
    "    day = find_end_date(month)\n",
    "    # Using TwitterSearchScraper to scrape data and append tweets to list\n",
    "    for i,tweet in enumerate(sntwitter.TwitterSearchScraper(\"'covid vaccine OR covid shot OR CovidVaccine OR covid-19 vaccine OR covid booster  since:202{}-0{}-01 until:202{}-0{}-{}'\".format(year, month, year, month, day)).get_items()):\n",
    "        if i>600:\n",
    "            break\n",
    "        tweets_list_vac.append([tweet.date, tweet.id, tweet.content, tweet.user.username])\n",
    "# Creating a dataframe from the tweets list above\n",
    "vac_df = pd.DataFrame(tweets_list_vac, columns=['Datetime', 'Tweet Id', 'Text', 'Username'])"
   ]
  },
  {
   "cell_type": "code",
   "execution_count": 19,
   "metadata": {},
   "outputs": [],
   "source": [
    "# Data Preprocesing \n",
    "vac_df['Datetime'] = pd.to_datetime(vac_df['Datetime'])\n",
    "vac_df['year_month'] = vac_df['Datetime'].dt.strftime('%Y-%m')\n",
    "vac_df = vac_df.drop(columns='Datetime')"
   ]
  },
  {
   "cell_type": "code",
   "execution_count": 20,
   "metadata": {},
   "outputs": [
    {
     "data": {
      "text/plain": [
       "2020-07    601\n",
       "2021-01    601\n",
       "2021-02    601\n",
       "2021-03    601\n",
       "2020-12    600\n",
       "2020-08    435\n",
       "2020-10    321\n",
       "2020-11    317\n",
       "2020-09    282\n",
       "Name: year_month, dtype: int64"
      ]
     },
     "execution_count": 20,
     "metadata": {},
     "output_type": "execute_result"
    }
   ],
   "source": [
    "# double check the number of tweets \n",
    "vac_df.year_month.value_counts()"
   ]
  },
  {
   "cell_type": "code",
   "execution_count": 22,
   "metadata": {},
   "outputs": [],
   "source": [
    "# Save the data to CSV file \n",
    "vac_df.to_csv('Social_Media_Data/twitter_vaccine.csv')"
   ]
  },
  {
   "cell_type": "markdown",
   "metadata": {},
   "source": [
    "### **Check month with less than 500 tweets**"
   ]
  },
  {
   "cell_type": "markdown",
   "metadata": {},
   "source": [
    "**vaccine**"
   ]
  },
  {
   "cell_type": "code",
   "execution_count": 14,
   "metadata": {},
   "outputs": [
    {
     "name": "stderr",
     "output_type": "stream",
     "text": [
      "/var/folders/nq/5z_sx69s5ngg5p145v4g54t80000gn/T/ipykernel_57895/3339797714.py:9: DeprecatedFeatureWarning: content is deprecated, use rawContent instead\n",
      "  tweets_list_vac0.append([tweet.date, tweet.id, tweet.content, tweet.user.username])\n"
     ]
    }
   ],
   "source": [
    "tweets_list_vac0 = []\n",
    "time_lst = [(0,9), (0,10), (0,11)]\n",
    "    # Using TwitterSearchScraper to scrape data and append tweets to list\n",
    "for year, month in time_lst: \n",
    "    day = find_end_date(month)\n",
    "    for i,tweet in enumerate(sntwitter.TwitterSearchScraper(\"'covid vaccine OR covid shot OR CovidVaccine OR covid-19 vaccine OR covid booster  since:202{}-0{}-01 until:202{}-0{}-{}'\".format(year, month, year, month, day)).get_items()):\n",
    "        if i>600:\n",
    "            break\n",
    "        tweets_list_vac0.append([tweet.date, tweet.id, tweet.content, tweet.user.username])\n",
    "# Creating a dataframe from the tweets list above\n",
    "vac_df = pd.DataFrame(tweets_list_vac0, columns=['Datetime', 'Tweet Id', 'Text', 'Username'])"
   ]
  },
  {
   "cell_type": "code",
   "execution_count": 15,
   "metadata": {},
   "outputs": [
    {
     "data": {
      "text/plain": [
       "2020-11    317\n",
       "2020-10    316\n",
       "2020-09    282\n",
       "Name: year_month, dtype: int64"
      ]
     },
     "execution_count": 15,
     "metadata": {},
     "output_type": "execute_result"
    }
   ],
   "source": [
    "vac_df['Datetime'] = pd.to_datetime(vac_df['Datetime'])\n",
    "vac_df['year_month'] = vac_df['Datetime'].dt.strftime('%Y-%m')\n",
    "vac_df = vac_df.drop(columns='Datetime')\n",
    "vac_df.year_month.value_counts()"
   ]
  }
 ],
 "metadata": {
  "kernelspec": {
   "display_name": "Python 3.9.6 64-bit",
   "language": "python",
   "name": "python3"
  },
  "language_info": {
   "codemirror_mode": {
    "name": "ipython",
    "version": 3
   },
   "file_extension": ".py",
   "mimetype": "text/x-python",
   "name": "python",
   "nbconvert_exporter": "python",
   "pygments_lexer": "ipython3",
   "version": "3.9.6"
  },
  "orig_nbformat": 4,
  "vscode": {
   "interpreter": {
    "hash": "31f2aee4e71d21fbe5cf8b01ff0e069b9275f58929596ceb00d14d90e3e16cd6"
   }
  }
 },
 "nbformat": 4,
 "nbformat_minor": 2
}
