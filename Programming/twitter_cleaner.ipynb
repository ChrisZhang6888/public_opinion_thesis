{
 "cells": [
  {
   "cell_type": "code",
   "execution_count": 2,
   "metadata": {},
   "outputs": [
    {
     "name": "stderr",
     "output_type": "stream",
     "text": [
      "/Users/chris/opt/anaconda3/lib/python3.9/site-packages/scipy/__init__.py:146: UserWarning: A NumPy version >=1.16.5 and <1.23.0 is required for this version of SciPy (detected version 1.26.4\n",
      "  warnings.warn(f\"A NumPy version >={np_minversion} and <{np_maxversion}\"\n",
      "[nltk_data] Downloading package stopwords to /Users/chris/nltk_data...\n",
      "[nltk_data]   Package stopwords is already up-to-date!\n"
     ]
    }
   ],
   "source": [
    "import pandas as pd \n",
    "import csv\n",
    "from builtins import open, bytes\n",
    "import gensim\n",
    "from gensim.utils import simple_preprocess\n",
    "import nltk\n",
    "from nltk.corpus import stopwords\n",
    "import matplotlib.pyplot as plt\n",
    "nltk.download('stopwords')\n",
    "from deep_translator import GoogleTranslator\n",
    "from langdetect import detect\n",
    "import seaborn as sns\n",
    "from recordlinkage.standardise import clean\n",
    "from nltk.sentiment.vader import SentimentIntensityAnalyzer"
   ]
  },
  {
   "cell_type": "markdown",
   "metadata": {},
   "source": [
    "## **Helper Functions**"
   ]
  },
  {
   "cell_type": "code",
   "execution_count": 3,
   "metadata": {},
   "outputs": [],
   "source": [
    "# screen tweets that has geographic locations within United States\n",
    "import pandas as pd\n",
    "\n",
    "def filter_us_locations(df, location_column='user/location'):\n",
    "    # List of state names and abbreviations including territories and major cities\n",
    "    valid_endings = [\n",
    "        ' usa', ' alabama', ' alaska', ' arizona', ' arkansas', ' california', \n",
    "        ' colorado', ' connecticut', ' delaware', ' florida', ' georgia', \n",
    "        ' hawaii', ' idaho', ' illinois', ' indiana', ' iowa', ' kansas', \n",
    "        ' kentucky', ' louisiana', ' maine', ' maryland', ' massachusetts', \n",
    "        ' michigan', ' minnesota', ' mississippi', ' missouri', ' montana', \n",
    "        ' nebraska', ' nevada', ' new hampshire', ' new jersey', ' new mexico', \n",
    "        ' new york', ' north carolina', ' north dakota', ' ohio', ' oklahoma', \n",
    "        ' oregon', ' pennsylvania', ' rhode island', ' south carolina', \n",
    "        ' south dakota', ' tennessee', ' texas', ' utah', ' vermont', ' virginia', \n",
    "        ' washington', ' west virginia', ' wisconsin', ' wyoming', ' dc', \n",
    "        ' puerto rico', ' guam', ' u.s. virgin islands', ' northern mariana islands',\n",
    "        ' al', ' ak', ' az', ' ar', ' ca', ' co', ' ct', ' de', ' fl', ' ga', \n",
    "        ' hi', ' id', ' il', ' in', ' ia', ' ks', ' ky', ' la', ' me', ' md', \n",
    "        ' ma', ' mi', ' mn', ' ms', ' mo', ' mt', ' ne', ' nv', ' nh', ' nj', \n",
    "        ' nm', ' ny', ' nc', ' nd', ' oh', ' ok', ' or', ' pa', ' ri', ' sc', \n",
    "        ' sd', ' tn', ' tx', ' ut', ' vt', ' va', ' wa', ' wv', ' wi', ' wy', \n",
    "        ' dc', ' pr', ' gu', ' vi', ' mp', ' as', 'usa', 'u.s.a', 'united states',\n",
    "        'america', 'us', 'chicago', 'new york', 'san diego', 'san francisco', \n",
    "        'los angeles', 'seattle', 'boston', 'dallas', 'denver', 'oklahoma city', \n",
    "        'philadelphia', 'phoenix', 'detroit', 'houston', 'kansas city', 'charlotte', \n",
    "        'baltimore', 'dmv', 'springfield', 'las vegas', 'columbus', 'miami', 'atlanta'\n",
    "    ]\n",
    "    \n",
    "    # Function to determine if the location is within the US or the cell is empty\n",
    "    def is_within_us(location):\n",
    "        location = location.lower().strip()\n",
    "        return any(ending in location for ending in valid_endings)\n",
    "\n",
    "    # Filter the DataFrame\n",
    "    filtered_df = df[df[location_column].apply(is_within_us)]\n",
    "\n",
    "    return filtered_df"
   ]
  },
  {
   "cell_type": "code",
   "execution_count": 4,
   "metadata": {},
   "outputs": [],
   "source": [
    "def clean_and_translate(bp):\n",
    "    # detect the language of each comments\n",
    "    from langdetect import detect\n",
    "    def detect_text(text):\n",
    "        try:\n",
    "            return detect(text)\n",
    "        except: \n",
    "            return 'Unknown'\n",
    "\n",
    "    # create translation function\n",
    "    from deep_translator import GoogleTranslator\n",
    "    def translate(text): \n",
    "        translator = GoogleTranslator(source = 'auto', target='english')\n",
    "        translation = translator.translate(text)\n",
    "        return translation \n",
    "\n",
    "    # remove stop words function \n",
    "    def remove_stop_words(text): \n",
    "        final_text = []\n",
    "        text = text.lower()\n",
    "        stop = set(stopwords.words('english'))\n",
    "        for i in text.split():\n",
    "            if i.strip() not in stop and i.strip() != 'https':\n",
    "                final_text.append(i.strip())\n",
    "        return \" \".join(final_text)\n",
    "    \n",
    "    # Remove rows where 'user/location' is empty or NaN\n",
    "    bp = bp.dropna(subset=['user/location'])\n",
    "    bp = bp[bp['user/location'].str.strip() != '']\n",
    "\n",
    "    # # clean comments \n",
    "    bp['full_text'] = clean(bp['full_text'])\n",
    "\n",
    "    # remove stop words from each comments \n",
    "    bp['full_text'] = bp['full_text'].apply(remove_stop_words)\n",
    "\n",
    "    # change the data type of the comment \n",
    "    bp = bp.astype({'full_text': 'string'})\n",
    "\n",
    "    # remove http links \n",
    "    bp['full_text'] = bp['full_text'].str.replace(r'http\\S+', '', regex=True)\n",
    "\n",
    "    # delete rows with less than 5 character in comments\n",
    "    bp['length'] = bp['full_text'].str.len()\n",
    "    drop_lst = bp[bp['length'] < 5].index.to_list()\n",
    "    bp = bp.drop(drop_lst, axis = 0)\n",
    "    bp = bp.reset_index()\n",
    "    \n",
    "    # create a language column for comment language identifier and make index list for it \n",
    "    # bp['language'] = bp['full_text'].apply(detect_text)\n",
    "    # index_lst = bp[bp['language'] != 'en'].index.to_list()\n",
    "\n",
    "    # create the translated column\n",
    "    bp['translated'] = bp['full_text']\n",
    "\n",
    "    # # apply translation \n",
    "    # err_df = bp.iloc[index_lst]\n",
    "    # err_df['translated'] = err_df['full_text'].apply(translate)\n",
    "\n",
    "    # update the final data \n",
    "    bp = bp.drop(columns='index')\n",
    "    # bp = bp.drop(columns='Unnamed: 0')\n",
    "\n",
    "    return bp "
   ]
  },
  {
   "cell_type": "code",
   "execution_count": 5,
   "metadata": {},
   "outputs": [],
   "source": [
    "from langdetect import detect\n",
    "def detect_text(text):\n",
    "    try:\n",
    "        return detect(text)\n",
    "    except: \n",
    "        return 'Unknown'\n",
    "\n",
    "def translate(text): \n",
    "    translator = GoogleTranslator(source = 'auto', target='english')\n",
    "    translation = translator.translate(text)\n",
    "    return translation "
   ]
  },
  {
   "cell_type": "markdown",
   "metadata": {},
   "source": [
    "## Iran"
   ]
  },
  {
   "cell_type": "code",
   "execution_count": 21,
   "metadata": {},
   "outputs": [
    {
     "data": {
      "text/plain": [
       "19408"
      ]
     },
     "execution_count": 21,
     "metadata": {},
     "output_type": "execute_result"
    }
   ],
   "source": [
    "ir = pd.read_csv('/Users/chris/Desktop/Thesis/public_opinion_thesis/Data/iran_cleaned.csv') # read in the data from csv file \n",
    "ir.drop(columns=['Unnamed: 0','truncated_full_text'],inplace=True) # drop unnecessary column\n",
    "ir['full_text'] = ir['full_text'].astype(str)   # transfer text column into string type \n",
    "len(ir)"
   ]
  },
  {
   "cell_type": "code",
   "execution_count": 22,
   "metadata": {},
   "outputs": [
    {
     "data": {
      "text/plain": [
       "18603"
      ]
     },
     "execution_count": 22,
     "metadata": {},
     "output_type": "execute_result"
    }
   ],
   "source": [
    "# pre-processing data by removing stop words and filter geo location info\n",
    "ir_cleaned = clean_and_translate(ir)\n",
    "len(ir_cleaned)\n"
   ]
  },
  {
   "cell_type": "code",
   "execution_count": 23,
   "metadata": {},
   "outputs": [
    {
     "data": {
      "text/plain": [
       "13519"
      ]
     },
     "execution_count": 23,
     "metadata": {},
     "output_type": "execute_result"
    }
   ],
   "source": [
    "ir_cleaned = filter_us_locations(ir_cleaned)\n",
    "len(ir_cleaned)"
   ]
  },
  {
   "cell_type": "code",
   "execution_count": 7,
   "metadata": {},
   "outputs": [
    {
     "name": "stdout",
     "output_type": "stream",
     "text": [
      "2023    2489\n",
      "2022    2438\n",
      "2021    2304\n",
      "2020    2153\n",
      "2019    2147\n",
      "2018    1988\n",
      "Name: year, dtype: int64\n",
      "2021    3577\n",
      "2023    3516\n",
      "2022    3480\n",
      "2020    3086\n",
      "2019    2968\n",
      "2018    2781\n",
      "Name: year, dtype: int64\n"
     ]
    }
   ],
   "source": [
    "print(ir_cleaned['year'].value_counts())\n",
    "print(ir['year'].value_counts())"
   ]
  },
  {
   "cell_type": "code",
   "execution_count": 8,
   "metadata": {},
   "outputs": [],
   "source": [
    "# identify language of each comments \n",
    "ir_cleaned['language'] = ir_cleaned['full_text'].apply(detect_text)\n",
    "# generating list of comments that are not in English \n",
    "index_lst = ir_cleaned[ir_cleaned['language'] != 'en'].index.to_list()\n",
    "# creating sub_dataframe to store tweets that are not written in English \n",
    "ir_need_trans = ir_cleaned.loc[index_lst]"
   ]
  },
  {
   "cell_type": "code",
   "execution_count": 14,
   "metadata": {},
   "outputs": [],
   "source": [
    "# manually divide the dataframe into several parts\n",
    "ir_df1 = ir_need_trans[:1000]\n",
    "ir_df2 = ir_need_trans[1000:2000]\n",
    "ir_df3 = ir_need_trans[2000:3000]\n",
    "ir_df4 = ir_need_trans[3000:4000]\n",
    "ir_df5 = ir_need_trans[4000:]"
   ]
  },
  {
   "cell_type": "code",
   "execution_count": 26,
   "metadata": {},
   "outputs": [
    {
     "name": "stderr",
     "output_type": "stream",
     "text": [
      "/var/folders/nq/5z_sx69s5ngg5p145v4g54t80000gn/T/ipykernel_46797/1876647491.py:2: SettingWithCopyWarning: \n",
      "A value is trying to be set on a copy of a slice from a DataFrame.\n",
      "Try using .loc[row_indexer,col_indexer] = value instead\n",
      "\n",
      "See the caveats in the documentation: https://pandas.pydata.org/pandas-docs/stable/user_guide/indexing.html#returning-a-view-versus-a-copy\n",
      "  ir_df1['translated'] = ir_df1['full_text'].apply(translate)\n",
      "/var/folders/nq/5z_sx69s5ngg5p145v4g54t80000gn/T/ipykernel_46797/1876647491.py:3: SettingWithCopyWarning: \n",
      "A value is trying to be set on a copy of a slice from a DataFrame.\n",
      "Try using .loc[row_indexer,col_indexer] = value instead\n",
      "\n",
      "See the caveats in the documentation: https://pandas.pydata.org/pandas-docs/stable/user_guide/indexing.html#returning-a-view-versus-a-copy\n",
      "  ir_df2['translated'] = ir_df2['full_text'].apply(translate)\n",
      "/var/folders/nq/5z_sx69s5ngg5p145v4g54t80000gn/T/ipykernel_46797/1876647491.py:4: SettingWithCopyWarning: \n",
      "A value is trying to be set on a copy of a slice from a DataFrame.\n",
      "Try using .loc[row_indexer,col_indexer] = value instead\n",
      "\n",
      "See the caveats in the documentation: https://pandas.pydata.org/pandas-docs/stable/user_guide/indexing.html#returning-a-view-versus-a-copy\n",
      "  ir_df3['translated'] = ir_df3['full_text'].apply(translate)\n",
      "/var/folders/nq/5z_sx69s5ngg5p145v4g54t80000gn/T/ipykernel_46797/1876647491.py:5: SettingWithCopyWarning: \n",
      "A value is trying to be set on a copy of a slice from a DataFrame.\n",
      "Try using .loc[row_indexer,col_indexer] = value instead\n",
      "\n",
      "See the caveats in the documentation: https://pandas.pydata.org/pandas-docs/stable/user_guide/indexing.html#returning-a-view-versus-a-copy\n",
      "  ir_df4['translated'] = ir_df4['full_text'].apply(translate)\n"
     ]
    }
   ],
   "source": [
    "# implement the translation formula to translate tweets text into English\n",
    "ir_df1['translated'] = ir_df1['full_text'].apply(translate)\n",
    "ir_df2['translated'] = ir_df2['full_text'].apply(translate)\n",
    "ir_df3['translated'] = ir_df3['full_text'].apply(translate)\n",
    "ir_df4['translated'] = ir_df4['full_text'].apply(translate)\n",
    "ir_df5['translated'] = ir_df5['full_text'].apply(translate)"
   ]
  },
  {
   "cell_type": "code",
   "execution_count": 27,
   "metadata": {},
   "outputs": [],
   "source": [
    "translated_seg = pd.concat([ir_df1, ir_df2, ir_df3, ir_df4, ir_df5])"
   ]
  },
  {
   "cell_type": "code",
   "execution_count": 30,
   "metadata": {},
   "outputs": [],
   "source": [
    "ir_cleaned.update(translated_seg)\n",
    "ir_cleaned = ir_cleaned.rename(columns={'full_text':'orig_text'})\n",
    "ir_cleaned = ir_cleaned.drop(columns='length')\n",
    "ir_cleaned = ir_cleaned.drop(columns='language')\n",
    "ir_cleaned['country'] = 'iran'"
   ]
  },
  {
   "cell_type": "code",
   "execution_count": 32,
   "metadata": {},
   "outputs": [],
   "source": [
    "ir_cleaned.to_csv('/Users/chris/Desktop/Thesis/public_opinion_thesis/Data/iran_translated.csv')"
   ]
  },
  {
   "cell_type": "markdown",
   "metadata": {},
   "source": [
    "## China"
   ]
  },
  {
   "cell_type": "code",
   "execution_count": 15,
   "metadata": {},
   "outputs": [
    {
     "data": {
      "text/plain": [
       "18002"
      ]
     },
     "execution_count": 15,
     "metadata": {},
     "output_type": "execute_result"
    }
   ],
   "source": [
    "china = pd.read_csv('/Users/chris/Desktop/Thesis/public_opinion_thesis/Data/china_cleaned.csv') # read in the data from csv file \n",
    "china.drop(columns=['Unnamed: 0'],inplace=True) # drop unnecessary column\n",
    "len(china)"
   ]
  },
  {
   "cell_type": "code",
   "execution_count": 16,
   "metadata": {},
   "outputs": [
    {
     "data": {
      "text/plain": [
       "17505"
      ]
     },
     "execution_count": 16,
     "metadata": {},
     "output_type": "execute_result"
    }
   ],
   "source": [
    "# pre-processing data by removing stop words and filter geo location info\n",
    "china_cleaned = clean_and_translate(china)\n",
    "len(china_cleaned)"
   ]
  },
  {
   "cell_type": "code",
   "execution_count": 17,
   "metadata": {},
   "outputs": [
    {
     "data": {
      "text/plain": [
       "14632"
      ]
     },
     "execution_count": 17,
     "metadata": {},
     "output_type": "execute_result"
    }
   ],
   "source": [
    "china_cleaned = filter_us_locations(china_cleaned)\n",
    "len(china_cleaned)"
   ]
  },
  {
   "cell_type": "code",
   "execution_count": null,
   "metadata": {},
   "outputs": [],
   "source": [
    "# identify language of each comments \n",
    "china_cleaned['language'] = china_cleaned['full_text'].apply(detect_text)\n",
    "china_cleaned"
   ]
  },
  {
   "cell_type": "code",
   "execution_count": 28,
   "metadata": {},
   "outputs": [
    {
     "data": {
      "text/html": [
       "<div>\n",
       "<style scoped>\n",
       "    .dataframe tbody tr th:only-of-type {\n",
       "        vertical-align: middle;\n",
       "    }\n",
       "\n",
       "    .dataframe tbody tr th {\n",
       "        vertical-align: top;\n",
       "    }\n",
       "\n",
       "    .dataframe thead th {\n",
       "        text-align: right;\n",
       "    }\n",
       "</style>\n",
       "<table border=\"1\" class=\"dataframe\">\n",
       "  <thead>\n",
       "    <tr style=\"text-align: right;\">\n",
       "      <th></th>\n",
       "      <th>full_text</th>\n",
       "      <th>url</th>\n",
       "      <th>user_id_str</th>\n",
       "      <th>user/location</th>\n",
       "      <th>month</th>\n",
       "      <th>day</th>\n",
       "      <th>year</th>\n",
       "      <th>length</th>\n",
       "      <th>translated</th>\n",
       "    </tr>\n",
       "  </thead>\n",
       "  <tbody>\n",
       "    <tr>\n",
       "      <th>469</th>\n",
       "      <td>chinese government donates 50 patrol motorcycl...</td>\n",
       "      <td>https://twitter.com/developingpak/status/10757...</td>\n",
       "      <td>748197966968561664</td>\n",
       "      <td>Islamabad, Pakistan</td>\n",
       "      <td>Dec</td>\n",
       "      <td>20</td>\n",
       "      <td>2018</td>\n",
       "      <td>150</td>\n",
       "      <td>chinese government donates 50 patrol motorcycl...</td>\n",
       "    </tr>\n",
       "    <tr>\n",
       "      <th>471</th>\n",
       "      <td>chinese hui muslims supporting brothers uyghur...</td>\n",
       "      <td>https://twitter.com/mufidyuksel/status/1077318...</td>\n",
       "      <td>246575315</td>\n",
       "      <td>New Jersey, NJ</td>\n",
       "      <td>Dec</td>\n",
       "      <td>24</td>\n",
       "      <td>2018</td>\n",
       "      <td>135</td>\n",
       "      <td>chinese hui muslims supporting brothers uyghur...</td>\n",
       "    </tr>\n",
       "    <tr>\n",
       "      <th>472</th>\n",
       "      <td>today fbi director wray joined thejusticedept ...</td>\n",
       "      <td>https://twitter.com/FBI/status/107582721538283...</td>\n",
       "      <td>17629860</td>\n",
       "      <td>Washington, DC</td>\n",
       "      <td>Dec</td>\n",
       "      <td>20</td>\n",
       "      <td>2018</td>\n",
       "      <td>205</td>\n",
       "      <td>today fbi director wray joined thejusticedept ...</td>\n",
       "    </tr>\n",
       "    <tr>\n",
       "      <th>474</th>\n",
       "      <td>chinese government allowfree muslims beliefs p...</td>\n",
       "      <td>https://twitter.com/mufidyuksel/status/1077270...</td>\n",
       "      <td>246575315</td>\n",
       "      <td>Alaska, AK</td>\n",
       "      <td>Dec</td>\n",
       "      <td>24</td>\n",
       "      <td>2018</td>\n",
       "      <td>200</td>\n",
       "      <td>chinese government allowfree muslims beliefs p...</td>\n",
       "    </tr>\n",
       "    <tr>\n",
       "      <th>476</th>\n",
       "      <td>highlight us indicts chinese state hackers con...</td>\n",
       "      <td>https://twitter.com/YahooFinance/status/107579...</td>\n",
       "      <td>19546277</td>\n",
       "      <td>New York, NY</td>\n",
       "      <td>Dec</td>\n",
       "      <td>20</td>\n",
       "      <td>2018</td>\n",
       "      <td>186</td>\n",
       "      <td>highlight us indicts chinese state hackers con...</td>\n",
       "    </tr>\n",
       "    <tr>\n",
       "      <th>...</th>\n",
       "      <td>...</td>\n",
       "      <td>...</td>\n",
       "      <td>...</td>\n",
       "      <td>...</td>\n",
       "      <td>...</td>\n",
       "      <td>...</td>\n",
       "      <td>...</td>\n",
       "      <td>...</td>\n",
       "      <td>...</td>\n",
       "    </tr>\n",
       "    <tr>\n",
       "      <th>771</th>\n",
       "      <td>chinese government deliberately sows confusion...</td>\n",
       "      <td>https://twitter.com/samirsaran/status/10790969...</td>\n",
       "      <td>68164273</td>\n",
       "      <td>Jacksonville, Florida</td>\n",
       "      <td>Dec</td>\n",
       "      <td>29</td>\n",
       "      <td>2018</td>\n",
       "      <td>181</td>\n",
       "      <td>chinese government deliberately sows confusion...</td>\n",
       "    </tr>\n",
       "    <tr>\n",
       "      <th>772</th>\n",
       "      <td>way kind thing international bds campaign musl...</td>\n",
       "      <td>https://twitter.com/Mendelpol/status/107677874...</td>\n",
       "      <td>2581849280</td>\n",
       "      <td>us</td>\n",
       "      <td>Dec</td>\n",
       "      <td>23</td>\n",
       "      <td>2018</td>\n",
       "      <td>158</td>\n",
       "      <td>way kind thing international bds campaign musl...</td>\n",
       "    </tr>\n",
       "    <tr>\n",
       "      <th>773</th>\n",
       "      <td>hey gerryshih ever asked editors wapo still ac...</td>\n",
       "      <td>https://twitter.com/JunkScience/status/1078652...</td>\n",
       "      <td>21150492</td>\n",
       "      <td>U.S.A</td>\n",
       "      <td>Dec</td>\n",
       "      <td>28</td>\n",
       "      <td>2018</td>\n",
       "      <td>123</td>\n",
       "      <td>hey gerryshih ever asked editors wapo still ac...</td>\n",
       "    </tr>\n",
       "    <tr>\n",
       "      <th>774</th>\n",
       "      <td>chinese scientist jiankui claimed last month s...</td>\n",
       "      <td>https://twitter.com/axios/status/1079031788310...</td>\n",
       "      <td>800707492346925056</td>\n",
       "      <td>Oklahoma City, Oklahoma</td>\n",
       "      <td>Dec</td>\n",
       "      <td>29</td>\n",
       "      <td>2018</td>\n",
       "      <td>160</td>\n",
       "      <td>chinese scientist jiankui claimed last month s...</td>\n",
       "    </tr>\n",
       "    <tr>\n",
       "      <th>775</th>\n",
       "      <td>gametheorytoday think really everyone going tr...</td>\n",
       "      <td>https://twitter.com/Dry_Observer/status/107840...</td>\n",
       "      <td>3083379578</td>\n",
       "      <td>U.S.A</td>\n",
       "      <td>Dec</td>\n",
       "      <td>27</td>\n",
       "      <td>2018</td>\n",
       "      <td>219</td>\n",
       "      <td>gametheorytoday think really everyone going tr...</td>\n",
       "    </tr>\n",
       "  </tbody>\n",
       "</table>\n",
       "<p>254 rows × 9 columns</p>\n",
       "</div>"
      ],
      "text/plain": [
       "                                             full_text  \\\n",
       "469  chinese government donates 50 patrol motorcycl...   \n",
       "471  chinese hui muslims supporting brothers uyghur...   \n",
       "472  today fbi director wray joined thejusticedept ...   \n",
       "474  chinese government allowfree muslims beliefs p...   \n",
       "476  highlight us indicts chinese state hackers con...   \n",
       "..                                                 ...   \n",
       "771  chinese government deliberately sows confusion...   \n",
       "772  way kind thing international bds campaign musl...   \n",
       "773  hey gerryshih ever asked editors wapo still ac...   \n",
       "774  chinese scientist jiankui claimed last month s...   \n",
       "775  gametheorytoday think really everyone going tr...   \n",
       "\n",
       "                                                   url         user_id_str  \\\n",
       "469  https://twitter.com/developingpak/status/10757...  748197966968561664   \n",
       "471  https://twitter.com/mufidyuksel/status/1077318...           246575315   \n",
       "472  https://twitter.com/FBI/status/107582721538283...            17629860   \n",
       "474  https://twitter.com/mufidyuksel/status/1077270...           246575315   \n",
       "476  https://twitter.com/YahooFinance/status/107579...            19546277   \n",
       "..                                                 ...                 ...   \n",
       "771  https://twitter.com/samirsaran/status/10790969...            68164273   \n",
       "772  https://twitter.com/Mendelpol/status/107677874...          2581849280   \n",
       "773  https://twitter.com/JunkScience/status/1078652...            21150492   \n",
       "774  https://twitter.com/axios/status/1079031788310...  800707492346925056   \n",
       "775  https://twitter.com/Dry_Observer/status/107840...          3083379578   \n",
       "\n",
       "               user/location month  day  year  length  \\\n",
       "469      Islamabad, Pakistan   Dec   20  2018     150   \n",
       "471           New Jersey, NJ   Dec   24  2018     135   \n",
       "472           Washington, DC   Dec   20  2018     205   \n",
       "474               Alaska, AK   Dec   24  2018     200   \n",
       "476             New York, NY   Dec   20  2018     186   \n",
       "..                       ...   ...  ...   ...     ...   \n",
       "771    Jacksonville, Florida   Dec   29  2018     181   \n",
       "772                       us   Dec   23  2018     158   \n",
       "773                    U.S.A   Dec   28  2018     123   \n",
       "774  Oklahoma City, Oklahoma   Dec   29  2018     160   \n",
       "775                    U.S.A   Dec   27  2018     219   \n",
       "\n",
       "                                            translated  \n",
       "469  chinese government donates 50 patrol motorcycl...  \n",
       "471  chinese hui muslims supporting brothers uyghur...  \n",
       "472  today fbi director wray joined thejusticedept ...  \n",
       "474  chinese government allowfree muslims beliefs p...  \n",
       "476  highlight us indicts chinese state hackers con...  \n",
       "..                                                 ...  \n",
       "771  chinese government deliberately sows confusion...  \n",
       "772  way kind thing international bds campaign musl...  \n",
       "773  hey gerryshih ever asked editors wapo still ac...  \n",
       "774  chinese scientist jiankui claimed last month s...  \n",
       "775  gametheorytoday think really everyone going tr...  \n",
       "\n",
       "[254 rows x 9 columns]"
      ]
     },
     "execution_count": 28,
     "metadata": {},
     "output_type": "execute_result"
    }
   ],
   "source": [
    "china_cleaned[(china_cleaned['year']==2018) & (china_cleaned['month']== \"Dec\")]"
   ]
  },
  {
   "cell_type": "code",
   "execution_count": 48,
   "metadata": {},
   "outputs": [],
   "source": [
    "# generating list of comments that are not in English \n",
    "index_lst = china_cleaned[china_cleaned['language'] != 'en'].index.to_list()\n",
    "# creating sub_dataframe to store tweets that are not written in English \n",
    "china_need_trans = china_cleaned.loc[index_lst]"
   ]
  },
  {
   "cell_type": "code",
   "execution_count": 14,
   "metadata": {},
   "outputs": [
    {
     "data": {
      "text/plain": [
       "full_text        2463\n",
       "url              2463\n",
       "user_id_str      2463\n",
       "user/location    2463\n",
       "month            2463\n",
       "day              2463\n",
       "year             2463\n",
       "length           2463\n",
       "translated       2463\n",
       "language         2463\n",
       "dtype: int64"
      ]
     },
     "execution_count": 14,
     "metadata": {},
     "output_type": "execute_result"
    }
   ],
   "source": [
    "china_need_trans.count()"
   ]
  },
  {
   "cell_type": "code",
   "execution_count": 15,
   "metadata": {},
   "outputs": [],
   "source": [
    "# manually divide the dataframe into several parts\n",
    "china_df1 = china_need_trans[:700]\n",
    "china_df2 = china_need_trans[700:1400]\n",
    "china_df3 = china_need_trans[1400:2100]\n",
    "china_df4 = china_need_trans[2100:]"
   ]
  },
  {
   "cell_type": "code",
   "execution_count": 16,
   "metadata": {},
   "outputs": [
    {
     "name": "stderr",
     "output_type": "stream",
     "text": [
      "/var/folders/nq/5z_sx69s5ngg5p145v4g54t80000gn/T/ipykernel_13885/1277191382.py:2: SettingWithCopyWarning: \n",
      "A value is trying to be set on a copy of a slice from a DataFrame.\n",
      "Try using .loc[row_indexer,col_indexer] = value instead\n",
      "\n",
      "See the caveats in the documentation: https://pandas.pydata.org/pandas-docs/stable/user_guide/indexing.html#returning-a-view-versus-a-copy\n",
      "  china_df1['translated'] = china_df1['full_text'].apply(translate)\n",
      "/var/folders/nq/5z_sx69s5ngg5p145v4g54t80000gn/T/ipykernel_13885/1277191382.py:3: SettingWithCopyWarning: \n",
      "A value is trying to be set on a copy of a slice from a DataFrame.\n",
      "Try using .loc[row_indexer,col_indexer] = value instead\n",
      "\n",
      "See the caveats in the documentation: https://pandas.pydata.org/pandas-docs/stable/user_guide/indexing.html#returning-a-view-versus-a-copy\n",
      "  china_df2['translated'] = china_df2['full_text'].apply(translate)\n",
      "/var/folders/nq/5z_sx69s5ngg5p145v4g54t80000gn/T/ipykernel_13885/1277191382.py:4: SettingWithCopyWarning: \n",
      "A value is trying to be set on a copy of a slice from a DataFrame.\n",
      "Try using .loc[row_indexer,col_indexer] = value instead\n",
      "\n",
      "See the caveats in the documentation: https://pandas.pydata.org/pandas-docs/stable/user_guide/indexing.html#returning-a-view-versus-a-copy\n",
      "  china_df3['translated'] = china_df3['full_text'].apply(translate)\n",
      "/var/folders/nq/5z_sx69s5ngg5p145v4g54t80000gn/T/ipykernel_13885/1277191382.py:5: SettingWithCopyWarning: \n",
      "A value is trying to be set on a copy of a slice from a DataFrame.\n",
      "Try using .loc[row_indexer,col_indexer] = value instead\n",
      "\n",
      "See the caveats in the documentation: https://pandas.pydata.org/pandas-docs/stable/user_guide/indexing.html#returning-a-view-versus-a-copy\n",
      "  china_df4['translated'] = china_df4['full_text'].apply(translate)\n"
     ]
    }
   ],
   "source": [
    "# implement the translation formula to translate tweets text into English\n",
    "china_df1['translated'] = china_df1['full_text'].apply(translate)\n",
    "china_df2['translated'] = china_df2['full_text'].apply(translate)\n",
    "china_df3['translated'] = china_df3['full_text'].apply(translate)\n",
    "china_df4['translated'] = china_df4['full_text'].apply(translate)"
   ]
  },
  {
   "cell_type": "code",
   "execution_count": 63,
   "metadata": {},
   "outputs": [],
   "source": [
    "translated_seg = pd.concat([china_df1, china_df2, china_df3, china_df4])"
   ]
  },
  {
   "cell_type": "code",
   "execution_count": 64,
   "metadata": {},
   "outputs": [],
   "source": [
    "china_cleaned.update(translated_seg)"
   ]
  },
  {
   "cell_type": "code",
   "execution_count": 65,
   "metadata": {},
   "outputs": [
    {
     "data": {
      "text/plain": [
       "full_text        14632\n",
       "url              14632\n",
       "user_id_str      14632\n",
       "user/location    14632\n",
       "month            14632\n",
       "day              14632\n",
       "year             14632\n",
       "length           14632\n",
       "translated       14632\n",
       "language         14632\n",
       "dtype: int64"
      ]
     },
     "execution_count": 65,
     "metadata": {},
     "output_type": "execute_result"
    }
   ],
   "source": [
    "china_cleaned.count()"
   ]
  },
  {
   "cell_type": "code",
   "execution_count": 66,
   "metadata": {},
   "outputs": [],
   "source": [
    "china_cleaned = china_cleaned.rename(columns={'full_text':'orig_text'})\n",
    "china_cleaned = china_cleaned.drop(columns=['length'])\n",
    "china_cleaned = china_cleaned.drop(columns=['language'])\n",
    "china_cleaned['country'] = 'china'"
   ]
  },
  {
   "cell_type": "code",
   "execution_count": 67,
   "metadata": {},
   "outputs": [
    {
     "data": {
      "text/plain": [
       "Dec    254\n",
       "Jun    253\n",
       "Oct    236\n",
       "Sep    232\n",
       "Jul    227\n",
       "Nov    222\n",
       "Mar    221\n",
       "Feb    215\n",
       "May    212\n",
       "Apr    203\n",
       "Jan    189\n",
       "Aug    186\n",
       "Name: month, dtype: int64"
      ]
     },
     "execution_count": 67,
     "metadata": {},
     "output_type": "execute_result"
    }
   ],
   "source": [
    "china_cleaned[china_cleaned['year']==2018]['month'].value_counts()"
   ]
  },
  {
   "cell_type": "code",
   "execution_count": 70,
   "metadata": {},
   "outputs": [],
   "source": [
    "china_cleaned.to_csv('/Users/chris/Desktop/Thesis/public_opinion_thesis/Data/china_translated.csv')"
   ]
  },
  {
   "cell_type": "markdown",
   "metadata": {},
   "source": [
    "## Russia"
   ]
  },
  {
   "cell_type": "code",
   "execution_count": 18,
   "metadata": {},
   "outputs": [
    {
     "data": {
      "text/plain": [
       "17165"
      ]
     },
     "execution_count": 18,
     "metadata": {},
     "output_type": "execute_result"
    }
   ],
   "source": [
    "ru = pd.read_csv('/Users/chris/Desktop/Thesis/public_opinion_thesis/Data/russia_cleaned.csv') # read in the data from csv file \n",
    "# ru.drop(columns=['Unnamed: 0','truncated_full_text'],inplace=True) # drop unnecessary column\n",
    "ru['full_text'] = ru['full_text'].astype(str)   # transfer text column into string type \n",
    "len(ru)"
   ]
  },
  {
   "cell_type": "code",
   "execution_count": 19,
   "metadata": {},
   "outputs": [
    {
     "data": {
      "text/plain": [
       "14931"
      ]
     },
     "execution_count": 19,
     "metadata": {},
     "output_type": "execute_result"
    }
   ],
   "source": [
    "# pre-processing data by removing stop words and filter geo location info\n",
    "ru_cleaned = clean_and_translate(ru)\n",
    "len(ru_cleaned)"
   ]
  },
  {
   "cell_type": "code",
   "execution_count": 20,
   "metadata": {},
   "outputs": [
    {
     "data": {
      "text/plain": [
       "12635"
      ]
     },
     "execution_count": 20,
     "metadata": {},
     "output_type": "execute_result"
    }
   ],
   "source": [
    "ru_cleaned = filter_us_locations(ru_cleaned)\n",
    "len(ru_cleaned)"
   ]
  },
  {
   "cell_type": "code",
   "execution_count": 22,
   "metadata": {},
   "outputs": [
    {
     "data": {
      "text/plain": [
       "Feb    231\n",
       "Jul    207\n",
       "Oct    207\n",
       "Jan    204\n",
       "Mar    203\n",
       "Aug    193\n",
       "May    190\n",
       "Dec    188\n",
       "Apr    173\n",
       "Nov    173\n",
       "Jun    168\n",
       "Sep    123\n",
       "Name: month, dtype: int64"
      ]
     },
     "execution_count": 22,
     "metadata": {},
     "output_type": "execute_result"
    }
   ],
   "source": [
    "ru_cleaned[ru_cleaned['year'] == 2018]['month'].value_counts()"
   ]
  },
  {
   "cell_type": "code",
   "execution_count": 23,
   "metadata": {},
   "outputs": [],
   "source": [
    "# identify language of each comments \n",
    "ru_cleaned['language'] = ru_cleaned['full_text'].apply(detect_text)\n",
    "# generating list of comments that are not in English \n",
    "index_lst = ru_cleaned[ru_cleaned['language'] != 'en'].index.to_list()\n",
    "# creating sub_dataframe to store tweets that are not written in English \n",
    "ru_need_trans = ru_cleaned.loc[index_lst]"
   ]
  },
  {
   "cell_type": "code",
   "execution_count": 24,
   "metadata": {},
   "outputs": [],
   "source": [
    "# manually divide the dataframe into several parts\n",
    "ru_df1 = ru_need_trans[:100]\n",
    "ru_df2 = ru_need_trans[100:200]\n",
    "ru_df3 = ru_need_trans[200:300]\n",
    "ru_df4 = ru_need_trans[300:400]\n",
    "ru_df5 = ru_need_trans[400:]"
   ]
  },
  {
   "cell_type": "code",
   "execution_count": 25,
   "metadata": {},
   "outputs": [
    {
     "name": "stderr",
     "output_type": "stream",
     "text": [
      "/var/folders/nq/5z_sx69s5ngg5p145v4g54t80000gn/T/ipykernel_46797/98464560.py:2: SettingWithCopyWarning: \n",
      "A value is trying to be set on a copy of a slice from a DataFrame.\n",
      "Try using .loc[row_indexer,col_indexer] = value instead\n",
      "\n",
      "See the caveats in the documentation: https://pandas.pydata.org/pandas-docs/stable/user_guide/indexing.html#returning-a-view-versus-a-copy\n",
      "  ru_df1['translated'] = ru_df1['full_text'].apply(translate)\n",
      "/var/folders/nq/5z_sx69s5ngg5p145v4g54t80000gn/T/ipykernel_46797/98464560.py:3: SettingWithCopyWarning: \n",
      "A value is trying to be set on a copy of a slice from a DataFrame.\n",
      "Try using .loc[row_indexer,col_indexer] = value instead\n",
      "\n",
      "See the caveats in the documentation: https://pandas.pydata.org/pandas-docs/stable/user_guide/indexing.html#returning-a-view-versus-a-copy\n",
      "  ru_df2['translated'] = ru_df2['full_text'].apply(translate)\n",
      "/var/folders/nq/5z_sx69s5ngg5p145v4g54t80000gn/T/ipykernel_46797/98464560.py:4: SettingWithCopyWarning: \n",
      "A value is trying to be set on a copy of a slice from a DataFrame.\n",
      "Try using .loc[row_indexer,col_indexer] = value instead\n",
      "\n",
      "See the caveats in the documentation: https://pandas.pydata.org/pandas-docs/stable/user_guide/indexing.html#returning-a-view-versus-a-copy\n",
      "  ru_df3['translated'] = ru_df3['full_text'].apply(translate)\n",
      "/var/folders/nq/5z_sx69s5ngg5p145v4g54t80000gn/T/ipykernel_46797/98464560.py:5: SettingWithCopyWarning: \n",
      "A value is trying to be set on a copy of a slice from a DataFrame.\n",
      "Try using .loc[row_indexer,col_indexer] = value instead\n",
      "\n",
      "See the caveats in the documentation: https://pandas.pydata.org/pandas-docs/stable/user_guide/indexing.html#returning-a-view-versus-a-copy\n",
      "  ru_df4['translated'] = ru_df4['full_text'].apply(translate)\n",
      "/var/folders/nq/5z_sx69s5ngg5p145v4g54t80000gn/T/ipykernel_46797/98464560.py:6: SettingWithCopyWarning: \n",
      "A value is trying to be set on a copy of a slice from a DataFrame.\n",
      "Try using .loc[row_indexer,col_indexer] = value instead\n",
      "\n",
      "See the caveats in the documentation: https://pandas.pydata.org/pandas-docs/stable/user_guide/indexing.html#returning-a-view-versus-a-copy\n",
      "  ru_df5['translated'] = ru_df5['full_text'].apply(translate)\n"
     ]
    }
   ],
   "source": [
    "# implement the translation formula to translate tweets text into English\n",
    "ru_df1['translated'] = ru_df1['full_text'].apply(translate)\n",
    "ru_df2['translated'] = ru_df2['full_text'].apply(translate)\n",
    "ru_df3['translated'] = ru_df3['full_text'].apply(translate)\n",
    "ru_df4['translated'] = ru_df4['full_text'].apply(translate)\n",
    "ru_df5['translated'] = ru_df5['full_text'].apply(translate)"
   ]
  },
  {
   "cell_type": "code",
   "execution_count": 45,
   "metadata": {},
   "outputs": [],
   "source": [
    "translated_seg = pd.concat([ru_df1, ru_df2, ru_df3, ru_df4, ru_df5])\n",
    "ru_cleaned.update(translated_seg)\n",
    "ru_cleaned = ru_cleaned.rename(columns={'full_text':'orig_text'})\n",
    "ru_cleaned = ru_cleaned.drop(columns='length')\n",
    "ru_cleaned = ru_cleaned.drop(columns='language')\n",
    "ru_cleaned['country'] = 'russia'"
   ]
  },
  {
   "cell_type": "code",
   "execution_count": 49,
   "metadata": {},
   "outputs": [],
   "source": [
    "ru_cleaned.to_csv('/Users/chris/Desktop/Thesis/public_opinion_thesis/Data/russia_translated.csv')"
   ]
  },
  {
   "cell_type": "markdown",
   "metadata": {},
   "source": [
    "## North Korean"
   ]
  },
  {
   "cell_type": "code",
   "execution_count": 6,
   "metadata": {},
   "outputs": [],
   "source": [
    "nk = pd.read_csv('/Users/chris/Desktop/Thesis/public_opinion_thesis/Data/nk_cleaned.csv') # read in the data from csv file \n",
    "nk['full_text'] = nk['full_text'].astype(str)   # transfer text column into string type "
   ]
  },
  {
   "cell_type": "code",
   "execution_count": 7,
   "metadata": {},
   "outputs": [
    {
     "data": {
      "text/plain": [
       "15023"
      ]
     },
     "execution_count": 7,
     "metadata": {},
     "output_type": "execute_result"
    }
   ],
   "source": [
    "len(nk)"
   ]
  },
  {
   "cell_type": "code",
   "execution_count": 8,
   "metadata": {},
   "outputs": [
    {
     "data": {
      "text/plain": [
       "14524"
      ]
     },
     "execution_count": 8,
     "metadata": {},
     "output_type": "execute_result"
    }
   ],
   "source": [
    "# pre-processing data by removing stop words and filter geo location info\n",
    "nk_cleaned = clean_and_translate(nk)\n",
    "len(nk_cleaned)"
   ]
  },
  {
   "cell_type": "code",
   "execution_count": 9,
   "metadata": {},
   "outputs": [
    {
     "data": {
      "text/plain": [
       "12032"
      ]
     },
     "execution_count": 9,
     "metadata": {},
     "output_type": "execute_result"
    }
   ],
   "source": [
    "nk_cleaned = filter_us_locations(nk_cleaned)\n",
    "len(nk_cleaned)"
   ]
  },
  {
   "cell_type": "code",
   "execution_count": 18,
   "metadata": {},
   "outputs": [],
   "source": [
    "# identify language of each comments \n",
    "nk_cleaned['language'] = nk_cleaned['full_text'].apply(detect_text)\n",
    "# generating list of comments that are not in English \n",
    "index_lst = nk_cleaned[nk_cleaned['language'] != 'en'].index.to_list()\n",
    "# creating sub_dataframe to store tweets that are not written in English \n",
    "nk_need_trans = nk_cleaned.loc[index_lst]"
   ]
  },
  {
   "cell_type": "code",
   "execution_count": 19,
   "metadata": {},
   "outputs": [
    {
     "data": {
      "text/plain": [
       "280"
      ]
     },
     "execution_count": 19,
     "metadata": {},
     "output_type": "execute_result"
    }
   ],
   "source": [
    "len(index_lst)"
   ]
  },
  {
   "cell_type": "code",
   "execution_count": 19,
   "metadata": {},
   "outputs": [],
   "source": [
    "# manually divide the dataframe into several parts\n",
    "nk_df1 = nk_need_trans[:1000]"
   ]
  },
  {
   "cell_type": "code",
   "execution_count": 20,
   "metadata": {},
   "outputs": [],
   "source": [
    "# implement the translation formula to translate tweets text into English\n",
    "nk_df1['translated'] = nk_df1['full_text'].apply(translate)"
   ]
  },
  {
   "cell_type": "code",
   "execution_count": 21,
   "metadata": {},
   "outputs": [],
   "source": [
    "nk_cleaned.update(nk_df1)\n",
    "nk_cleaned = nk_cleaned.rename(columns={'full_text':'orig_text'})\n",
    "nk_cleaned = nk_cleaned.drop(columns='length')\n",
    "nk_cleaned = nk_cleaned.drop(columns='language')\n",
    "nk_cleaned['country'] = 'nk'"
   ]
  },
  {
   "cell_type": "code",
   "execution_count": 22,
   "metadata": {},
   "outputs": [],
   "source": [
    "nk_cleaned.to_csv('/Users/chris/Desktop/Thesis/public_opinion_thesis/Data/nk_translated.csv')"
   ]
  },
  {
   "cell_type": "markdown",
   "metadata": {},
   "source": [
    "## Summary"
   ]
  },
  {
   "cell_type": "code",
   "execution_count": 12,
   "metadata": {},
   "outputs": [],
   "source": [
    "nk0 = pd.read_csv('/Users/chris/Desktop/Thesis/public_opinion_thesis/Data/nk_cleaned.csv')\n",
    "iran0 = pd.read_csv('/Users/chris/Desktop/Thesis/public_opinion_thesis/Data/iran_cleaned.csv')\n",
    "china0 = pd.read_csv('/Users/chris/Desktop/Thesis/public_opinion_thesis/Data/china_cleaned.csv')\n",
    "russia0 = pd.read_csv('/Users/chris/Desktop/Thesis/public_opinion_thesis/Data/russia_cleaned.csv')"
   ]
  },
  {
   "cell_type": "code",
   "execution_count": 10,
   "metadata": {},
   "outputs": [],
   "source": [
    "nk = pd.read_csv('/Users/chris/Desktop/Thesis/public_opinion_thesis/Data/nk_translated.csv')\n",
    "iran = pd.read_csv('/Users/chris/Desktop/Thesis/public_opinion_thesis/Data/iran_translated.csv')\n",
    "china = pd.read_csv('/Users/chris/Desktop/Thesis/public_opinion_thesis/Data/china_translated.csv')\n",
    "russia = pd.read_csv('/Users/chris/Desktop/Thesis/public_opinion_thesis/Data/russia_translated.csv')"
   ]
  },
  {
   "cell_type": "code",
   "execution_count": 13,
   "metadata": {},
   "outputs": [
    {
     "name": "stdout",
     "output_type": "stream",
     "text": [
      "iran after cleaning 13519\n",
      "iran before cleaning 19408\n",
      "nk after cleaning 12032\n",
      "nk before cleaning 15023\n",
      "china after cleaning 14632\n",
      "china before cleaning 18002\n",
      "russia after cleaning 12635\n",
      "russia before cleaning 17165\n"
     ]
    }
   ],
   "source": [
    "print('iran after cleaning', len(iran))\n",
    "print('iran before cleaning', len(iran0))\n",
    "\n",
    "print('nk after cleaning', len(nk))\n",
    "print('nk before cleaning', len(nk0))\n",
    "\n",
    "print('china after cleaning', len(china))\n",
    "print('china before cleaning', len(china0))\n",
    "\n",
    "print('russia after cleaning', len(russia))\n",
    "print('russia before cleaning', len(russia0))\n"
   ]
  },
  {
   "cell_type": "code",
   "execution_count": 9,
   "metadata": {},
   "outputs": [
    {
     "data": {
      "image/png": "[encoded data removed]",
      "text/plain": [
       "<Figure size 864x576 with 1 Axes>"
      ]
     },
     "metadata": {
      "needs_background": "light"
     },
     "output_type": "display_data"
    }
   ],
   "source": [
    "import matplotlib.pyplot as plt\n",
    "\n",
    "# Data setup\n",
    "countries = ['Iran', 'North Korea', 'China', 'Russia']\n",
    "before_cleaning = [19408, 15023, 18002, 17165]\n",
    "after_cleaning = [13519, 12032, 14632, 12635]\n",
    "x = range(len(countries))\n",
    "\n",
    "# Plotting\n",
    "fig, ax = plt.subplots(figsize=(12, 8))  # Smaller figure size\n",
    "bar_width = 0.35\n",
    "\n",
    "bars1 = ax.bar(x, before_cleaning, width=bar_width, label='Before Cleaning', color='#99d98c')\n",
    "bars2 = ax.bar([p + bar_width for p in x], after_cleaning, width=bar_width, label='After Cleaning', color='#1e6091')\n",
    "\n",
    "# Adding annotations\n",
    "for bar in bars1:\n",
    "    yval = bar.get_height()\n",
    "    ax.text(bar.get_x() + bar.get_width()/2, yval, int(yval), va='bottom')  # va: vertical alignment\n",
    "\n",
    "for bar in bars2:\n",
    "    yval = bar.get_height()\n",
    "    ax.text(bar.get_x() + bar.get_width()/2, yval, int(yval), va='bottom')  # va: vertical alignment\n",
    "\n",
    "# Labeling\n",
    "ax.set_xlabel('Countries')\n",
    "ax.set_ylabel('Number of Tweets')\n",
    "ax.set_title('Number of Tweets Before and After Cleaning by Country')\n",
    "ax.set_xticks([p + bar_width / 2 for p in x])\n",
    "ax.set_xticklabels(countries)\n",
    "ax.legend(loc='lower right')\n",
    "\n",
    "plt.show()\n"
   ]
  }
 ],
 "metadata": {
  "kernelspec": {
   "display_name": "Python 3.9.12 ('base')",
   "language": "python",
   "name": "python3"
  },
  "language_info": {
   "codemirror_mode": {
    "name": "ipython",
    "version": 3
   },
   "file_extension": ".py",
   "mimetype": "text/x-python",
   "name": "python",
   "nbconvert_exporter": "python",
   "pygments_lexer": "ipython3",
   "version": "3.9.12"
  },
  "orig_nbformat": 4,
  "vscode": {
   "interpreter": {
    "hash": "56941cacf15e8b05765996006082865469347c2b4cdce983108d1335de8b4245"
   }
  }
 },
 "nbformat": 4,
 "nbformat_minor": 2
}
