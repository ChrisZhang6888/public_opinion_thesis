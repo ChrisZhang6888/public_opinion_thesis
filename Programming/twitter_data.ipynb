{
 "cells": [
  {
   "cell_type": "code",
   "execution_count": 1,
   "metadata": {},
   "outputs": [],
   "source": [
    "import pandas as pd\n",
    "import csv \n",
    "import matplotlib.pyplot as plt\n",
    "import os\n",
    "import re"
   ]
  },
  {
   "cell_type": "markdown",
   "metadata": {},
   "source": [
    "### Helper Function"
   ]
  },
  {
   "cell_type": "code",
   "execution_count": 15,
   "metadata": {},
   "outputs": [],
   "source": [
    "# Function to extract date info from raw data\n",
    "def extract_date_info_v2(date_str):\n",
    "    \"\"\"\n",
    "    Extracts the month, day, and year from a date string.\n",
    "    \n",
    "    Parameters:\n",
    "    - date_str: A string representing a date in the format \"Day Mon DD HH:MM:SS +0000 YYYY\"\n",
    "    \n",
    "    Returns:\n",
    "    - A tuple containing the month as a string, day and year as integers.\n",
    "    \"\"\"\n",
    "    # Regular expression to capture the month, day, and year\n",
    "    match = re.search(r'\\w+\\s+(\\w+)\\s+(\\d+)\\s+\\d{2}:\\d{2}:\\d{2}\\s+\\+\\d{4}\\s+(\\d{4})', date_str)\n",
    "    if match:\n",
    "        month, day, year = match.groups()\n",
    "        return month, int(day), int(year)\n",
    "    return None, None, None"
   ]
  },
  {
   "cell_type": "code",
   "execution_count": 16,
   "metadata": {},
   "outputs": [],
   "source": [
    "# function to combine all raw data into dataframe \n",
    "def data_combine(country):\n",
    "    # read in raw data and combine them into dataframe \n",
    "    folder_path = '/Users/chris/Desktop/Thesis/public_opinion_thesis/Data/{country}'.format(country = country)  # Update this to your folder path\n",
    "    csv_files = [file for file in os.listdir(folder_path) if file.endswith('.csv')]\n",
    "\n",
    "    # Concatenate all the dataframes in the list\n",
    "    all_dataframes = [] \n",
    "    for file in csv_files:\n",
    "        file_path = os.path.join(folder_path, file)\n",
    "        df = pd.read_csv(file_path)\n",
    "        all_dataframes.append(df)\n",
    "    china_df = pd.concat(all_dataframes, ignore_index=True)\n",
    "\n",
    "    # Apply to raw data\n",
    "    china_df['month'], china_df['day'], china_df['year'] = zip(*china_df['created_at'].apply(extract_date_info_v2))\n",
    "\n",
    "    # drop previous date column \n",
    "    china_df1 = china_df.drop(columns=[\"created_at\"])\n",
    "\n",
    "    # drop duplicate tweets \n",
    "    china_df2 = china_df1.drop_duplicates()\n",
    "    indices_to_drop = china_df2[china_df2['year'] == 2024].index\n",
    "    china_df3 = china_df2.drop(indices_to_drop)\n",
    "    china_cleaned = china_df3.sort_values(by=['year','month'],ascending=True)\n",
    "\n",
    "    # Checking for year and month distribution after remove duplicates\n",
    "    month_distribution = china_cleaned['month'].value_counts()\n",
    "    year_distribution = china_cleaned['year'].value_counts()\n",
    "    print('cleaned year distribution for {country}: '.format(country = country))\n",
    "    print(year_distribution)\n",
    "    print('cleaned month distribution for {country}: '.format(country = country))\n",
    "    print(month_distribution)\n",
    "\n",
    "    return china_cleaned"
   ]
  },
  {
   "cell_type": "markdown",
   "metadata": {},
   "source": [
    "### Processing Data"
   ]
  },
  {
   "cell_type": "code",
   "execution_count": 20,
   "metadata": {},
   "outputs": [
    {
     "name": "stdout",
     "output_type": "stream",
     "text": [
      "cleaned year distribution for Russia: \n",
      "2018    1800\n",
      "2020    1800\n",
      "2023    1800\n",
      "2021    1798\n",
      "2022    1783\n",
      "2019    1700\n",
      "Name: year, dtype: int64\n",
      "cleaned month distribution for Russia: \n",
      "Dec    900\n",
      "Feb    900\n",
      "Mar    900\n",
      "Nov    900\n",
      "Apr    899\n",
      "Aug    899\n",
      "Jan    899\n",
      "Jun    899\n",
      "May    899\n",
      "Sep    886\n",
      "Oct    851\n",
      "Jul    849\n",
      "Name: month, dtype: int64\n"
     ]
    }
   ],
   "source": [
    "ru_cleaned = data_combine('Russia')\n",
    "nk_cleaned = data_combine('North_Korean')"
   ]
  },
  {
   "cell_type": "code",
   "execution_count": 12,
   "metadata": {},
   "outputs": [
    {
     "name": "stdout",
     "output_type": "stream",
     "text": [
      "cleaned year distribution for China: \n",
      "2023    2054\n",
      "2019    1912\n",
      "2021    1903\n",
      "2018    1870\n",
      "2022    1863\n",
      "2020    1750\n",
      "Name: year, dtype: int64\n",
      "cleaned month distribution for China: \n",
      "Dec    1185\n",
      "Jun    1041\n",
      "Sep     997\n",
      "Mar     977\n",
      "Oct     926\n",
      "Feb     921\n",
      "Apr     917\n",
      "Nov     910\n",
      "Aug     900\n",
      "Jan     900\n",
      "May     900\n",
      "Jul     778\n",
      "Name: month, dtype: int64\n",
      "cleaned year distribution for Iran: \n",
      "2023    1813\n",
      "2019    1800\n",
      "2021    1800\n",
      "2022    1800\n",
      "2018    1755\n",
      "2020    1742\n",
      "Name: year, dtype: int64\n",
      "cleaned month distribution for Iran: \n",
      "Apr    900\n",
      "Aug    900\n",
      "Dec    900\n",
      "Feb    900\n",
      "Jul    900\n",
      "Jun    900\n",
      "Mar    900\n",
      "Nov    900\n",
      "Oct    900\n",
      "Sep    900\n",
      "Jan    855\n",
      "May    855\n",
      "Name: month, dtype: int64\n"
     ]
    }
   ],
   "source": [
    "# Call the function to read in data \n",
    "china_cleaned = data_combine('China')\n",
    "ir_cleaned = data_combine('Iran')"
   ]
  },
  {
   "cell_type": "code",
   "execution_count": 13,
   "metadata": {},
   "outputs": [
    {
     "data": {
      "text/plain": [
       "2023    2054\n",
       "2019    1912\n",
       "2021    1903\n",
       "2018    1870\n",
       "2022    1863\n",
       "2020    1750\n",
       "Name: year, dtype: int64"
      ]
     },
     "execution_count": 13,
     "metadata": {},
     "output_type": "execute_result"
    }
   ],
   "source": [
    "china_cleaned['year'].value_counts()"
   ]
  },
  {
   "cell_type": "code",
   "execution_count": 21,
   "metadata": {},
   "outputs": [
    {
     "data": {
      "image/png": "[encoded data removed]",
      "text/plain": [
       "<Figure size 720x432 with 1 Axes>"
      ]
     },
     "metadata": {
      "needs_background": "light"
     },
     "output_type": "display_data"
    },
    {
     "data": {
      "image/png": "[encoded data removed]",
      "text/plain": [
       "<Figure size 720x432 with 1 Axes>"
      ]
     },
     "metadata": {
      "needs_background": "light"
     },
     "output_type": "display_data"
    },
    {
     "data": {
      "image/png": "[encoded data removed]",
      "text/plain": [
       "<Figure size 720x432 with 1 Axes>"
      ]
     },
     "metadata": {
      "needs_background": "light"
     },
     "output_type": "display_data"
    },
    {
     "data": {
      "image/png": "[encoded data removed]",
      "text/plain": [
       "<Figure size 720x432 with 1 Axes>"
      ]
     },
     "metadata": {
      "needs_background": "light"
     },
     "output_type": "display_data"
    }
   ],
   "source": [
    "def visualize_tweets_per_year(dataframe, title):\n",
    "    \"\"\"\n",
    "    Visualize the number of tweets per year.\n",
    "    \n",
    "    Parameters:\n",
    "    - dataframe: pandas DataFrame with a 'year' column.\n",
    "    - title: str, title for the plot indicating the dataset being visualized.\n",
    "    \"\"\"\n",
    "    tweets_per_year = dataframe['year'].value_counts().sort_index()\n",
    "    \n",
    "    plt.figure(figsize=(10, 6))\n",
    "    tweets_per_year.plot(kind='bar')\n",
    "    \n",
    "    plt.title(f'Number of Tweets Each Year for {title}')\n",
    "    plt.xlabel('Year')\n",
    "    plt.ylabel('Number of Tweets')\n",
    "    plt.xticks(rotation=45)\n",
    "    plt.grid(axis='y')\n",
    "    plt.show()\n",
    "\n",
    "# Assuming you have four DataFrames: df1, df2, df3, df4\n",
    "# And corresponding titles for these DataFrames\n",
    "dataframes_and_titles = [\n",
    "    (china_cleaned, 'China'),\n",
    "    (ru_cleaned, 'Russia'),\n",
    "    (ir_cleaned, 'Iran'),\n",
    "    (nk_cleaned, 'North Korean')\n",
    "]\n",
    "\n",
    "# Looping through each DataFrame and its title, and visualizing the year distribution\n",
    "for dataframe, title in dataframes_and_titles:\n",
    "    visualize_tweets_per_year(dataframe, title)\n"
   ]
  },
  {
   "cell_type": "code",
   "execution_count": 6,
   "metadata": {},
   "outputs": [],
   "source": [
    "# save the cleaned data into csv file\n",
    "ir_cleaned.to_csv(\"/Users/chris/Desktop/Thesis/public_opinion_thesis/Data/iran_cleaned.csv\")\n",
    "china_cleaned.to_csv(\"/Users/chris/Desktop/Thesis/public_opinion_thesis/Data/china_cleaned.csv\")"
   ]
  },
  {
   "cell_type": "code",
   "execution_count": 22,
   "metadata": {},
   "outputs": [],
   "source": [
    "nk_cleaned.to_csv(\"/Users/chris/Desktop/Thesis/public_opinion_thesis/Data/northkorean_cleaned.csv\")\n",
    "ru_cleaned.to_csv(\"/Users/chris/Desktop/Thesis/public_opinion_thesis/Data/russia_cleaned.csv\")"
   ]
  }
 ],
 "metadata": {
  "kernelspec": {
   "display_name": "Python 3.9.12 ('base')",
   "language": "python",
   "name": "python3"
  },
  "language_info": {
   "codemirror_mode": {
    "name": "ipython",
    "version": 3
   },
   "file_extension": ".py",
   "mimetype": "text/x-python",
   "name": "python",
   "nbconvert_exporter": "python",
   "pygments_lexer": "ipython3",
   "version": "3.9.12"
  },
  "orig_nbformat": 4,
  "vscode": {
   "interpreter": {
    "hash": "56941cacf15e8b05765996006082865469347c2b4cdce983108d1335de8b4245"
   }
  }
 },
 "nbformat": 4,
 "nbformat_minor": 2
}
