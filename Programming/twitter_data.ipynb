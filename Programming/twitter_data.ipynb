{
 "cells": [
  {
   "cell_type": "code",
   "execution_count": 1,
   "metadata": {},
   "outputs": [],
   "source": [
    "import pandas as pd\n",
    "import csv \n",
    "import matplotlib.pyplot as plt\n",
    "import os\n",
    "import re"
   ]
  },
  {
   "cell_type": "markdown",
   "metadata": {},
   "source": [
    "### Helper Function"
   ]
  },
  {
   "cell_type": "code",
   "execution_count": 2,
   "metadata": {},
   "outputs": [],
   "source": [
    "# Function to extract date info from raw data\n",
    "def extract_date_info_v2(date_str):\n",
    "    \"\"\"\n",
    "    Extracts the month, day, and year from a date string.\n",
    "    \n",
    "    Parameters:\n",
    "    - date_str: A string representing a date in the format \"Day Mon DD HH:MM:SS +0000 YYYY\"\n",
    "    \n",
    "    Returns:\n",
    "    - A tuple containing the month as a string, day and year as integers.\n",
    "    \"\"\"\n",
    "    # Regular expression to capture the month, day, and year\n",
    "    match = re.search(r'\\w+\\s+(\\w+)\\s+(\\d+)\\s+\\d{2}:\\d{2}:\\d{2}\\s+\\+\\d{4}\\s+(\\d{4})', date_str)\n",
    "    if match:\n",
    "        month, day, year = match.groups()\n",
    "        return month, int(day), int(year)\n",
    "    return None, None, None"
   ]
  },
  {
   "cell_type": "code",
   "execution_count": 3,
   "metadata": {},
   "outputs": [],
   "source": [
    "# function to combine all raw data into dataframe \n",
    "def data_combine(country):\n",
    "    # read in raw data and combine them into dataframe \n",
    "    folder_path = '/Users/chris/Desktop/Thesis/public_opinion_thesis/Data/{country}'.format(country = country)  # Update this to your folder path\n",
    "    csv_files = [file for file in os.listdir(folder_path) if file.endswith('.csv')]\n",
    "\n",
    "    # Concatenate all the dataframes in the list\n",
    "    all_dataframes = [] \n",
    "    for file in csv_files:\n",
    "        file_path = os.path.join(folder_path, file)\n",
    "        df = pd.read_csv(file_path)\n",
    "        all_dataframes.append(df)\n",
    "    china_df = pd.concat(all_dataframes, ignore_index=True)\n",
    "\n",
    "    # Apply to raw data\n",
    "    china_df['month'], china_df['day'], china_df['year'] = zip(*china_df['created_at'].apply(extract_date_info_v2))\n",
    "\n",
    "    # drop previous date column \n",
    "    china_df1 = china_df.drop(columns=[\"created_at\"])\n",
    "\n",
    "    # drop duplicate tweets \n",
    "    china_df2 = china_df1.drop_duplicates()\n",
    "    indices_to_drop = china_df2[china_df2['year'] == 2024].index\n",
    "    china_df3 = china_df2.drop(indices_to_drop)\n",
    "    china_cleaned = china_df3.sort_values(by=['year','month'],ascending=True)\n",
    "\n",
    "    # Checking for year and month distribution after remove duplicates\n",
    "    month_distribution = china_cleaned['month'].value_counts()\n",
    "    year_distribution = china_cleaned['year'].value_counts()\n",
    "    print('cleaned year distribution for {country}: '.format(country = country))\n",
    "    print(year_distribution)\n",
    "    print('cleaned month distribution for {country}: '.format(country = country))\n",
    "    print(month_distribution)\n",
    "\n",
    "    return china_cleaned"
   ]
  },
  {
   "cell_type": "markdown",
   "metadata": {},
   "source": [
    "### Processing Data"
   ]
  },
  {
   "cell_type": "code",
   "execution_count": 108,
   "metadata": {},
   "outputs": [
    {
     "name": "stdout",
     "output_type": "stream",
     "text": [
      "cleaned year distribution for Russia: \n",
      "2018    2985\n",
      "2019    2984\n",
      "2022    2884\n",
      "2020    2849\n",
      "2021    2805\n",
      "2023    2658\n",
      "Name: year, dtype: int64\n",
      "cleaned month distribution for Russia: \n",
      "Feb    1536\n",
      "Jan    1502\n",
      "Jul    1480\n",
      "May    1475\n",
      "Aug    1464\n",
      "Apr    1446\n",
      "Jun    1439\n",
      "Dec    1422\n",
      "Oct    1415\n",
      "Mar    1396\n",
      "Sep    1374\n",
      "Nov    1216\n",
      "Name: month, dtype: int64\n",
      "cleaned year distribution for North_Korean: \n",
      "2018    2572\n",
      "2021    2530\n",
      "2022    2504\n",
      "2019    2493\n",
      "2023    2473\n",
      "2020    2451\n",
      "Name: year, dtype: int64\n",
      "cleaned month distribution for North_Korean: \n",
      "Feb    1316\n",
      "Aug    1288\n",
      "Jan    1285\n",
      "Sep    1285\n",
      "Oct    1271\n",
      "May    1267\n",
      "Apr    1261\n",
      "Jun    1225\n",
      "Dec    1223\n",
      "Nov    1208\n",
      "Mar    1204\n",
      "Jul    1190\n",
      "Name: month, dtype: int64\n"
     ]
    }
   ],
   "source": [
    "ru_cleaned = data_combine('Russia')\n",
    "nk_cleaned = data_combine('North_Korean') "
   ]
  },
  {
   "cell_type": "code",
   "execution_count": 115,
   "metadata": {},
   "outputs": [
    {
     "name": "stdout",
     "output_type": "stream",
     "text": [
      "cleaned year distribution for China: \n",
      "2018    3279\n",
      "2023    3209\n",
      "2022    2926\n",
      "2021    2890\n",
      "2019    2883\n",
      "2020    2815\n",
      "Name: year, dtype: int64\n",
      "cleaned month distribution for China: \n",
      "Dec    1721\n",
      "Jun    1608\n",
      "Mar    1551\n",
      "Nov    1551\n",
      "Oct    1539\n",
      "Sep    1513\n",
      "Feb    1483\n",
      "May    1446\n",
      "Apr    1435\n",
      "Jul    1422\n",
      "Jan    1412\n",
      "Aug    1321\n",
      "Name: month, dtype: int64\n",
      "cleaned year distribution for Iran: \n",
      "2021    3577\n",
      "2023    3516\n",
      "2022    3480\n",
      "2020    3086\n",
      "2019    2968\n",
      "2018    2781\n",
      "Name: year, dtype: int64\n",
      "cleaned month distribution for Iran: \n",
      "Dec    1728\n",
      "Sep    1711\n",
      "May    1705\n",
      "Aug    1659\n",
      "Feb    1646\n",
      "Nov    1626\n",
      "Apr    1596\n",
      "Jan    1574\n",
      "Mar    1559\n",
      "Jun    1556\n",
      "Jul    1524\n",
      "Oct    1524\n",
      "Name: month, dtype: int64\n"
     ]
    }
   ],
   "source": [
    "# Call the function to read in data \n",
    "china_cleaned = data_combine('China')\n",
    "ir_cleaned = data_combine('Iran')"
   ]
  },
  {
   "cell_type": "code",
   "execution_count": 109,
   "metadata": {},
   "outputs": [
    {
     "data": {
      "image/png": "[encoded data removed]",
      "text/plain": [
       "<Figure size 720x432 with 1 Axes>"
      ]
     },
     "metadata": {
      "needs_background": "light"
     },
     "output_type": "display_data"
    },
    {
     "data": {
      "image/png": "[encoded data removed]",
      "text/plain": [
       "<Figure size 720x432 with 1 Axes>"
      ]
     },
     "metadata": {
      "needs_background": "light"
     },
     "output_type": "display_data"
    },
    {
     "data": {
      "image/png": "[encoded data removed]",
      "text/plain": [
       "<Figure size 720x432 with 1 Axes>"
      ]
     },
     "metadata": {
      "needs_background": "light"
     },
     "output_type": "display_data"
    },
    {
     "data": {
      "image/png": "[encoded data removed]",
      "text/plain": [
       "<Figure size 720x432 with 1 Axes>"
      ]
     },
     "metadata": {
      "needs_background": "light"
     },
     "output_type": "display_data"
    }
   ],
   "source": [
    "def visualize_tweets_per_year(dataframe, title):\n",
    "    \"\"\"\n",
    "    Visualize the number of tweets per year.\n",
    "    \n",
    "    Parameters:\n",
    "    - dataframe: pandas DataFrame with a 'year' column.\n",
    "    - title: str, title for the plot indicating the dataset being visualized.\n",
    "    \"\"\"\n",
    "    tweets_per_year = dataframe['year'].value_counts().sort_index()\n",
    "    \n",
    "    plt.figure(figsize=(10, 6))\n",
    "    tweets_per_year.plot(kind='bar')\n",
    "    \n",
    "    plt.title(f'Number of Tweets Each Year for {title}')\n",
    "    plt.xlabel('Year')\n",
    "    plt.ylabel('Number of Tweets')\n",
    "    plt.xticks(rotation=45)\n",
    "    plt.grid(axis='y')\n",
    "    plt.show()\n",
    "\n",
    "# Assuming you have four DataFrames: df1, df2, df3, df4\n",
    "# And corresponding titles for these DataFrames\n",
    "dataframes_and_titles = [\n",
    "    (china_cleaned, 'China'),\n",
    "    (ru_cleaned, 'Russia'),\n",
    "    (ir_cleaned, 'Iran'),\n",
    "    (nk_cleaned, 'North Korean')\n",
    "]\n",
    "\n",
    "# Looping through each DataFrame and its title, and visualizing the year distribution\n",
    "for dataframe, title in dataframes_and_titles:\n",
    "    visualize_tweets_per_year(dataframe, title)\n"
   ]
  },
  {
   "cell_type": "code",
   "execution_count": 113,
   "metadata": {},
   "outputs": [],
   "source": [
    "# save the cleaned data into csv file\n",
    "ir_cleaned.to_csv(\"/Users/chris/Desktop/Thesis/public_opinion_thesis/Data/iran_cleaned.csv\")"
   ]
  },
  {
   "cell_type": "code",
   "execution_count": 116,
   "metadata": {},
   "outputs": [],
   "source": [
    "china_cleaned.to_csv(\"/Users/chris/Desktop/Thesis/public_opinion_thesis/Data/china_cleaned.csv\")"
   ]
  },
  {
   "cell_type": "code",
   "execution_count": 111,
   "metadata": {},
   "outputs": [],
   "source": [
    "nk_cleaned.to_csv(\"/Users/chris/Desktop/Thesis/public_opinion_thesis/Data/nk_cleaned.csv\")"
   ]
  },
  {
   "cell_type": "code",
   "execution_count": 105,
   "metadata": {},
   "outputs": [],
   "source": [
    "ru_cleaned.to_csv(\"/Users/chris/Desktop/Thesis/public_opinion_thesis/Data/russia_cleaned.csv\")"
   ]
  }
 ],
 "metadata": {
  "kernelspec": {
   "display_name": "Python 3.9.12 ('base')",
   "language": "python",
   "name": "python3"
  },
  "language_info": {
   "codemirror_mode": {
    "name": "ipython",
    "version": 3
   },
   "file_extension": ".py",
   "mimetype": "text/x-python",
   "name": "python",
   "nbconvert_exporter": "python",
   "pygments_lexer": "ipython3",
   "version": "3.9.12"
  },
  "orig_nbformat": 4,
  "vscode": {
   "interpreter": {
    "hash": "56941cacf15e8b05765996006082865469347c2b4cdce983108d1335de8b4245"
   }
  }
 },
 "nbformat": 4,
 "nbformat_minor": 2
}
